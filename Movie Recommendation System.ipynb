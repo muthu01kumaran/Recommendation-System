{
 "cells": [
  {
   "cell_type": "markdown",
   "id": "73d41355",
   "metadata": {},
   "source": [
    "# <center><span style=\"color:purple;\">Movie Recommendation System</span></center>"
   ]
  },
  {
   "cell_type": "markdown",
   "id": "4a3b6732",
   "metadata": {},
   "source": [
    "**Data Description:**       \n",
    "The data consists of 105339 ratings applied over 10329 movies. The average rating is \n",
    "3.5, and the minimum and maximum rating is 0.5 and 5, respectively. There are 668 \n",
    "users who have given their ratings for 149532 movies.  \n",
    "\n",
    "There are two data files that are provided:  \n",
    "__Movies.csv__  \n",
    "➢ movieId: ID assigned to a movie  \n",
    "➢ title: Title of a movie  \n",
    "➢ genres: pipe separated list of movie genres.  \n",
    "__Ratings.csv__  \n",
    "➢ userId: ID assigned to a user  \n",
    "➢ movieId: ID assigned to a movie  \n",
    "➢ rating: rating by a user of a movie  \n",
    "➢ Timestamp: time at which the rating was provided."
   ]
  },
  {
   "cell_type": "markdown",
   "id": "ab82dadc",
   "metadata": {},
   "source": [
    "#### Importing Necessary Libraries"
   ]
  },
  {
   "cell_type": "code",
   "execution_count": 1,
   "id": "c5e066ce",
   "metadata": {},
   "outputs": [],
   "source": [
    "import pandas as pd\n",
    "import numpy as np\n",
    "import matplotlib.pyplot as plt\n",
    "import seaborn as sns\n",
    "import warnings\n",
    "warnings.filterwarnings('ignore')"
   ]
  },
  {
   "cell_type": "code",
   "execution_count": 2,
   "id": "6777340f",
   "metadata": {},
   "outputs": [
    {
     "data": {
      "text/html": [
       "<div>\n",
       "<style scoped>\n",
       "    .dataframe tbody tr th:only-of-type {\n",
       "        vertical-align: middle;\n",
       "    }\n",
       "\n",
       "    .dataframe tbody tr th {\n",
       "        vertical-align: top;\n",
       "    }\n",
       "\n",
       "    .dataframe thead th {\n",
       "        text-align: right;\n",
       "    }\n",
       "</style>\n",
       "<table border=\"1\" class=\"dataframe\">\n",
       "  <thead>\n",
       "    <tr style=\"text-align: right;\">\n",
       "      <th></th>\n",
       "      <th>movieId</th>\n",
       "      <th>title</th>\n",
       "      <th>genres</th>\n",
       "    </tr>\n",
       "  </thead>\n",
       "  <tbody>\n",
       "    <tr>\n",
       "      <th>0</th>\n",
       "      <td>1</td>\n",
       "      <td>Toy Story (1995)</td>\n",
       "      <td>Adventure|Animation|Children|Comedy|Fantasy</td>\n",
       "    </tr>\n",
       "    <tr>\n",
       "      <th>1</th>\n",
       "      <td>2</td>\n",
       "      <td>Jumanji (1995)</td>\n",
       "      <td>Adventure|Children|Fantasy</td>\n",
       "    </tr>\n",
       "    <tr>\n",
       "      <th>2</th>\n",
       "      <td>3</td>\n",
       "      <td>Grumpier Old Men (1995)</td>\n",
       "      <td>Comedy|Romance</td>\n",
       "    </tr>\n",
       "    <tr>\n",
       "      <th>3</th>\n",
       "      <td>4</td>\n",
       "      <td>Waiting to Exhale (1995)</td>\n",
       "      <td>Comedy|Drama|Romance</td>\n",
       "    </tr>\n",
       "    <tr>\n",
       "      <th>4</th>\n",
       "      <td>5</td>\n",
       "      <td>Father of the Bride Part II (1995)</td>\n",
       "      <td>Comedy</td>\n",
       "    </tr>\n",
       "    <tr>\n",
       "      <th>5</th>\n",
       "      <td>6</td>\n",
       "      <td>Heat (1995)</td>\n",
       "      <td>Action|Crime|Thriller</td>\n",
       "    </tr>\n",
       "    <tr>\n",
       "      <th>6</th>\n",
       "      <td>7</td>\n",
       "      <td>Sabrina (1995)</td>\n",
       "      <td>Comedy|Romance</td>\n",
       "    </tr>\n",
       "    <tr>\n",
       "      <th>7</th>\n",
       "      <td>8</td>\n",
       "      <td>Tom and Huck (1995)</td>\n",
       "      <td>Adventure|Children</td>\n",
       "    </tr>\n",
       "    <tr>\n",
       "      <th>8</th>\n",
       "      <td>9</td>\n",
       "      <td>Sudden Death (1995)</td>\n",
       "      <td>Action</td>\n",
       "    </tr>\n",
       "    <tr>\n",
       "      <th>9</th>\n",
       "      <td>10</td>\n",
       "      <td>GoldenEye (1995)</td>\n",
       "      <td>Action|Adventure|Thriller</td>\n",
       "    </tr>\n",
       "  </tbody>\n",
       "</table>\n",
       "</div>"
      ],
      "text/plain": [
       "   movieId                               title  \\\n",
       "0        1                    Toy Story (1995)   \n",
       "1        2                      Jumanji (1995)   \n",
       "2        3             Grumpier Old Men (1995)   \n",
       "3        4            Waiting to Exhale (1995)   \n",
       "4        5  Father of the Bride Part II (1995)   \n",
       "5        6                         Heat (1995)   \n",
       "6        7                      Sabrina (1995)   \n",
       "7        8                 Tom and Huck (1995)   \n",
       "8        9                 Sudden Death (1995)   \n",
       "9       10                    GoldenEye (1995)   \n",
       "\n",
       "                                        genres  \n",
       "0  Adventure|Animation|Children|Comedy|Fantasy  \n",
       "1                   Adventure|Children|Fantasy  \n",
       "2                               Comedy|Romance  \n",
       "3                         Comedy|Drama|Romance  \n",
       "4                                       Comedy  \n",
       "5                        Action|Crime|Thriller  \n",
       "6                               Comedy|Romance  \n",
       "7                           Adventure|Children  \n",
       "8                                       Action  \n",
       "9                    Action|Adventure|Thriller  "
      ]
     },
     "execution_count": 2,
     "metadata": {},
     "output_type": "execute_result"
    }
   ],
   "source": [
    "movie = pd.read_csv(r\"C:\\Users\\Muthukumaran\\OneDrive\\Documents\\My DIY Notebooks\\PROJECT\\movies.csv\")\n",
    "movie.head(10)"
   ]
  },
  {
   "cell_type": "code",
   "execution_count": 3,
   "id": "b9e368a2",
   "metadata": {},
   "outputs": [
    {
     "data": {
      "text/html": [
       "<div>\n",
       "<style scoped>\n",
       "    .dataframe tbody tr th:only-of-type {\n",
       "        vertical-align: middle;\n",
       "    }\n",
       "\n",
       "    .dataframe tbody tr th {\n",
       "        vertical-align: top;\n",
       "    }\n",
       "\n",
       "    .dataframe thead th {\n",
       "        text-align: right;\n",
       "    }\n",
       "</style>\n",
       "<table border=\"1\" class=\"dataframe\">\n",
       "  <thead>\n",
       "    <tr style=\"text-align: right;\">\n",
       "      <th></th>\n",
       "      <th>userId</th>\n",
       "      <th>movieId</th>\n",
       "      <th>rating</th>\n",
       "      <th>timestamp</th>\n",
       "    </tr>\n",
       "  </thead>\n",
       "  <tbody>\n",
       "    <tr>\n",
       "      <th>0</th>\n",
       "      <td>1</td>\n",
       "      <td>16</td>\n",
       "      <td>4.0</td>\n",
       "      <td>1217897793</td>\n",
       "    </tr>\n",
       "    <tr>\n",
       "      <th>1</th>\n",
       "      <td>1</td>\n",
       "      <td>24</td>\n",
       "      <td>1.5</td>\n",
       "      <td>1217895807</td>\n",
       "    </tr>\n",
       "    <tr>\n",
       "      <th>2</th>\n",
       "      <td>1</td>\n",
       "      <td>32</td>\n",
       "      <td>4.0</td>\n",
       "      <td>1217896246</td>\n",
       "    </tr>\n",
       "    <tr>\n",
       "      <th>3</th>\n",
       "      <td>1</td>\n",
       "      <td>47</td>\n",
       "      <td>4.0</td>\n",
       "      <td>1217896556</td>\n",
       "    </tr>\n",
       "    <tr>\n",
       "      <th>4</th>\n",
       "      <td>1</td>\n",
       "      <td>50</td>\n",
       "      <td>4.0</td>\n",
       "      <td>1217896523</td>\n",
       "    </tr>\n",
       "    <tr>\n",
       "      <th>5</th>\n",
       "      <td>1</td>\n",
       "      <td>110</td>\n",
       "      <td>4.0</td>\n",
       "      <td>1217896150</td>\n",
       "    </tr>\n",
       "    <tr>\n",
       "      <th>6</th>\n",
       "      <td>1</td>\n",
       "      <td>150</td>\n",
       "      <td>3.0</td>\n",
       "      <td>1217895940</td>\n",
       "    </tr>\n",
       "    <tr>\n",
       "      <th>7</th>\n",
       "      <td>1</td>\n",
       "      <td>161</td>\n",
       "      <td>4.0</td>\n",
       "      <td>1217897864</td>\n",
       "    </tr>\n",
       "    <tr>\n",
       "      <th>8</th>\n",
       "      <td>1</td>\n",
       "      <td>165</td>\n",
       "      <td>3.0</td>\n",
       "      <td>1217897135</td>\n",
       "    </tr>\n",
       "    <tr>\n",
       "      <th>9</th>\n",
       "      <td>1</td>\n",
       "      <td>204</td>\n",
       "      <td>0.5</td>\n",
       "      <td>1217895786</td>\n",
       "    </tr>\n",
       "  </tbody>\n",
       "</table>\n",
       "</div>"
      ],
      "text/plain": [
       "   userId  movieId  rating   timestamp\n",
       "0       1       16     4.0  1217897793\n",
       "1       1       24     1.5  1217895807\n",
       "2       1       32     4.0  1217896246\n",
       "3       1       47     4.0  1217896556\n",
       "4       1       50     4.0  1217896523\n",
       "5       1      110     4.0  1217896150\n",
       "6       1      150     3.0  1217895940\n",
       "7       1      161     4.0  1217897864\n",
       "8       1      165     3.0  1217897135\n",
       "9       1      204     0.5  1217895786"
      ]
     },
     "execution_count": 3,
     "metadata": {},
     "output_type": "execute_result"
    }
   ],
   "source": [
    "rating = pd.read_csv(r\"C:\\Users\\Muthukumaran\\OneDrive\\Documents\\My DIY Notebooks\\PROJECT\\ratings.csv\")\n",
    "rating.head(10)"
   ]
  },
  {
   "cell_type": "code",
   "execution_count": 4,
   "id": "c83fbe79",
   "metadata": {},
   "outputs": [
    {
     "name": "stdout",
     "output_type": "stream",
     "text": [
      "(10329, 3)\n",
      "(105339, 4)\n"
     ]
    }
   ],
   "source": [
    "print(movie.shape)\n",
    "print(rating.shape)"
   ]
  },
  {
   "cell_type": "code",
   "execution_count": 5,
   "id": "94b1ad9b",
   "metadata": {},
   "outputs": [
    {
     "name": "stdout",
     "output_type": "stream",
     "text": [
      "<class 'pandas.core.frame.DataFrame'>\n",
      "RangeIndex: 10329 entries, 0 to 10328\n",
      "Data columns (total 3 columns):\n",
      " #   Column   Non-Null Count  Dtype \n",
      "---  ------   --------------  ----- \n",
      " 0   movieId  10329 non-null  int64 \n",
      " 1   title    10329 non-null  object\n",
      " 2   genres   10329 non-null  object\n",
      "dtypes: int64(1), object(2)\n",
      "memory usage: 242.2+ KB\n"
     ]
    }
   ],
   "source": [
    "movie.info()"
   ]
  },
  {
   "cell_type": "code",
   "execution_count": 6,
   "id": "38f68114",
   "metadata": {},
   "outputs": [
    {
     "name": "stdout",
     "output_type": "stream",
     "text": [
      "<class 'pandas.core.frame.DataFrame'>\n",
      "RangeIndex: 105339 entries, 0 to 105338\n",
      "Data columns (total 4 columns):\n",
      " #   Column     Non-Null Count   Dtype  \n",
      "---  ------     --------------   -----  \n",
      " 0   userId     105339 non-null  int64  \n",
      " 1   movieId    105339 non-null  int64  \n",
      " 2   rating     105339 non-null  float64\n",
      " 3   timestamp  105339 non-null  int64  \n",
      "dtypes: float64(1), int64(3)\n",
      "memory usage: 3.2 MB\n"
     ]
    }
   ],
   "source": [
    "rating.info()"
   ]
  },
  {
   "cell_type": "code",
   "execution_count": 7,
   "id": "57b88ef7",
   "metadata": {},
   "outputs": [
    {
     "data": {
      "text/html": [
       "<div>\n",
       "<style scoped>\n",
       "    .dataframe tbody tr th:only-of-type {\n",
       "        vertical-align: middle;\n",
       "    }\n",
       "\n",
       "    .dataframe tbody tr th {\n",
       "        vertical-align: top;\n",
       "    }\n",
       "\n",
       "    .dataframe thead th {\n",
       "        text-align: right;\n",
       "    }\n",
       "</style>\n",
       "<table border=\"1\" class=\"dataframe\">\n",
       "  <thead>\n",
       "    <tr style=\"text-align: right;\">\n",
       "      <th></th>\n",
       "      <th>movieId</th>\n",
       "    </tr>\n",
       "  </thead>\n",
       "  <tbody>\n",
       "    <tr>\n",
       "      <th>count</th>\n",
       "      <td>10329.000000</td>\n",
       "    </tr>\n",
       "    <tr>\n",
       "      <th>mean</th>\n",
       "      <td>31924.282893</td>\n",
       "    </tr>\n",
       "    <tr>\n",
       "      <th>std</th>\n",
       "      <td>37734.741149</td>\n",
       "    </tr>\n",
       "    <tr>\n",
       "      <th>min</th>\n",
       "      <td>1.000000</td>\n",
       "    </tr>\n",
       "    <tr>\n",
       "      <th>25%</th>\n",
       "      <td>3240.000000</td>\n",
       "    </tr>\n",
       "    <tr>\n",
       "      <th>50%</th>\n",
       "      <td>7088.000000</td>\n",
       "    </tr>\n",
       "    <tr>\n",
       "      <th>75%</th>\n",
       "      <td>59900.000000</td>\n",
       "    </tr>\n",
       "    <tr>\n",
       "      <th>max</th>\n",
       "      <td>149532.000000</td>\n",
       "    </tr>\n",
       "  </tbody>\n",
       "</table>\n",
       "</div>"
      ],
      "text/plain": [
       "             movieId\n",
       "count   10329.000000\n",
       "mean    31924.282893\n",
       "std     37734.741149\n",
       "min         1.000000\n",
       "25%      3240.000000\n",
       "50%      7088.000000\n",
       "75%     59900.000000\n",
       "max    149532.000000"
      ]
     },
     "execution_count": 7,
     "metadata": {},
     "output_type": "execute_result"
    }
   ],
   "source": [
    "movie.describe()"
   ]
  },
  {
   "cell_type": "code",
   "execution_count": 8,
   "id": "b4a67a2f",
   "metadata": {},
   "outputs": [
    {
     "data": {
      "text/html": [
       "<div>\n",
       "<style scoped>\n",
       "    .dataframe tbody tr th:only-of-type {\n",
       "        vertical-align: middle;\n",
       "    }\n",
       "\n",
       "    .dataframe tbody tr th {\n",
       "        vertical-align: top;\n",
       "    }\n",
       "\n",
       "    .dataframe thead th {\n",
       "        text-align: right;\n",
       "    }\n",
       "</style>\n",
       "<table border=\"1\" class=\"dataframe\">\n",
       "  <thead>\n",
       "    <tr style=\"text-align: right;\">\n",
       "      <th></th>\n",
       "      <th>title</th>\n",
       "      <th>genres</th>\n",
       "    </tr>\n",
       "  </thead>\n",
       "  <tbody>\n",
       "    <tr>\n",
       "      <th>count</th>\n",
       "      <td>10329</td>\n",
       "      <td>10329</td>\n",
       "    </tr>\n",
       "    <tr>\n",
       "      <th>unique</th>\n",
       "      <td>10327</td>\n",
       "      <td>938</td>\n",
       "    </tr>\n",
       "    <tr>\n",
       "      <th>top</th>\n",
       "      <td>War of the Worlds (2005)</td>\n",
       "      <td>Drama</td>\n",
       "    </tr>\n",
       "    <tr>\n",
       "      <th>freq</th>\n",
       "      <td>2</td>\n",
       "      <td>1385</td>\n",
       "    </tr>\n",
       "  </tbody>\n",
       "</table>\n",
       "</div>"
      ],
      "text/plain": [
       "                           title genres\n",
       "count                      10329  10329\n",
       "unique                     10327    938\n",
       "top     War of the Worlds (2005)  Drama\n",
       "freq                           2   1385"
      ]
     },
     "execution_count": 8,
     "metadata": {},
     "output_type": "execute_result"
    }
   ],
   "source": [
    "movie.describe(include='O')"
   ]
  },
  {
   "cell_type": "code",
   "execution_count": 9,
   "id": "76756b98",
   "metadata": {},
   "outputs": [],
   "source": [
    "df = pd.merge(movie,rating,on='movieId')"
   ]
  },
  {
   "cell_type": "code",
   "execution_count": 10,
   "id": "a8b78077",
   "metadata": {},
   "outputs": [
    {
     "data": {
      "text/plain": [
       "movieId      0\n",
       "title        0\n",
       "genres       0\n",
       "userId       0\n",
       "rating       0\n",
       "timestamp    0\n",
       "dtype: int64"
      ]
     },
     "execution_count": 10,
     "metadata": {},
     "output_type": "execute_result"
    }
   ],
   "source": [
    "df.isnull().sum()"
   ]
  },
  {
   "cell_type": "code",
   "execution_count": 11,
   "id": "dc600977",
   "metadata": {},
   "outputs": [
    {
     "data": {
      "text/plain": [
       "10329"
      ]
     },
     "execution_count": 11,
     "metadata": {},
     "output_type": "execute_result"
    }
   ],
   "source": [
    "movie.movieId.nunique()"
   ]
  },
  {
   "cell_type": "code",
   "execution_count": 12,
   "id": "c4f9fec8",
   "metadata": {},
   "outputs": [
    {
     "data": {
      "text/plain": [
       "668"
      ]
     },
     "execution_count": 12,
     "metadata": {},
     "output_type": "execute_result"
    }
   ],
   "source": [
    "rating.userId.nunique()"
   ]
  },
  {
   "cell_type": "code",
   "execution_count": 13,
   "id": "30e1e1a0",
   "metadata": {},
   "outputs": [
    {
     "name": "stdout",
     "output_type": "stream",
     "text": [
      "(10329, 3)\n",
      "(105339, 4)\n",
      "(105339, 6)\n"
     ]
    }
   ],
   "source": [
    "print(movie.shape)\n",
    "print(rating.shape)\n",
    "print(df.shape)"
   ]
  },
  {
   "cell_type": "markdown",
   "id": "f363c08c",
   "metadata": {},
   "source": [
    "From the above three lines of code output, we came to know that there are 10329 unique movies and 668 unique users are there to rate the movies. So, the final merged dataframe contains 105339 rows because a single movie can be rated by many users or viceversa. So that the length of rows increased."
   ]
  },
  {
   "cell_type": "code",
   "execution_count": 14,
   "id": "42e455c9",
   "metadata": {
    "scrolled": true
   },
   "outputs": [
    {
     "data": {
      "text/html": [
       "<div>\n",
       "<style scoped>\n",
       "    .dataframe tbody tr th:only-of-type {\n",
       "        vertical-align: middle;\n",
       "    }\n",
       "\n",
       "    .dataframe tbody tr th {\n",
       "        vertical-align: top;\n",
       "    }\n",
       "\n",
       "    .dataframe thead th {\n",
       "        text-align: right;\n",
       "    }\n",
       "</style>\n",
       "<table border=\"1\" class=\"dataframe\">\n",
       "  <thead>\n",
       "    <tr style=\"text-align: right;\">\n",
       "      <th></th>\n",
       "      <th>movieId</th>\n",
       "      <th>title</th>\n",
       "      <th>genres</th>\n",
       "      <th>userId</th>\n",
       "      <th>rating</th>\n",
       "      <th>timestamp</th>\n",
       "    </tr>\n",
       "  </thead>\n",
       "  <tbody>\n",
       "    <tr>\n",
       "      <th>0</th>\n",
       "      <td>1</td>\n",
       "      <td>Toy Story (1995)</td>\n",
       "      <td>Adventure|Animation|Children|Comedy|Fantasy</td>\n",
       "      <td>2</td>\n",
       "      <td>5.0</td>\n",
       "      <td>859046895</td>\n",
       "    </tr>\n",
       "    <tr>\n",
       "      <th>1</th>\n",
       "      <td>1</td>\n",
       "      <td>Toy Story (1995)</td>\n",
       "      <td>Adventure|Animation|Children|Comedy|Fantasy</td>\n",
       "      <td>5</td>\n",
       "      <td>4.0</td>\n",
       "      <td>1303501039</td>\n",
       "    </tr>\n",
       "    <tr>\n",
       "      <th>2</th>\n",
       "      <td>1</td>\n",
       "      <td>Toy Story (1995)</td>\n",
       "      <td>Adventure|Animation|Children|Comedy|Fantasy</td>\n",
       "      <td>8</td>\n",
       "      <td>5.0</td>\n",
       "      <td>858610933</td>\n",
       "    </tr>\n",
       "    <tr>\n",
       "      <th>3</th>\n",
       "      <td>1</td>\n",
       "      <td>Toy Story (1995)</td>\n",
       "      <td>Adventure|Animation|Children|Comedy|Fantasy</td>\n",
       "      <td>11</td>\n",
       "      <td>4.0</td>\n",
       "      <td>850815810</td>\n",
       "    </tr>\n",
       "    <tr>\n",
       "      <th>4</th>\n",
       "      <td>1</td>\n",
       "      <td>Toy Story (1995)</td>\n",
       "      <td>Adventure|Animation|Children|Comedy|Fantasy</td>\n",
       "      <td>14</td>\n",
       "      <td>4.0</td>\n",
       "      <td>851766286</td>\n",
       "    </tr>\n",
       "    <tr>\n",
       "      <th>5</th>\n",
       "      <td>1</td>\n",
       "      <td>Toy Story (1995)</td>\n",
       "      <td>Adventure|Animation|Children|Comedy|Fantasy</td>\n",
       "      <td>17</td>\n",
       "      <td>5.0</td>\n",
       "      <td>1350206819</td>\n",
       "    </tr>\n",
       "    <tr>\n",
       "      <th>6</th>\n",
       "      <td>1</td>\n",
       "      <td>Toy Story (1995)</td>\n",
       "      <td>Adventure|Animation|Children|Comedy|Fantasy</td>\n",
       "      <td>28</td>\n",
       "      <td>3.0</td>\n",
       "      <td>884098350</td>\n",
       "    </tr>\n",
       "    <tr>\n",
       "      <th>7</th>\n",
       "      <td>1</td>\n",
       "      <td>Toy Story (1995)</td>\n",
       "      <td>Adventure|Animation|Children|Comedy|Fantasy</td>\n",
       "      <td>29</td>\n",
       "      <td>4.0</td>\n",
       "      <td>846942580</td>\n",
       "    </tr>\n",
       "    <tr>\n",
       "      <th>8</th>\n",
       "      <td>1</td>\n",
       "      <td>Toy Story (1995)</td>\n",
       "      <td>Adventure|Animation|Children|Comedy|Fantasy</td>\n",
       "      <td>30</td>\n",
       "      <td>4.5</td>\n",
       "      <td>1292690069</td>\n",
       "    </tr>\n",
       "    <tr>\n",
       "      <th>9</th>\n",
       "      <td>1</td>\n",
       "      <td>Toy Story (1995)</td>\n",
       "      <td>Adventure|Animation|Children|Comedy|Fantasy</td>\n",
       "      <td>31</td>\n",
       "      <td>4.0</td>\n",
       "      <td>832397496</td>\n",
       "    </tr>\n",
       "  </tbody>\n",
       "</table>\n",
       "</div>"
      ],
      "text/plain": [
       "   movieId             title                                       genres  \\\n",
       "0        1  Toy Story (1995)  Adventure|Animation|Children|Comedy|Fantasy   \n",
       "1        1  Toy Story (1995)  Adventure|Animation|Children|Comedy|Fantasy   \n",
       "2        1  Toy Story (1995)  Adventure|Animation|Children|Comedy|Fantasy   \n",
       "3        1  Toy Story (1995)  Adventure|Animation|Children|Comedy|Fantasy   \n",
       "4        1  Toy Story (1995)  Adventure|Animation|Children|Comedy|Fantasy   \n",
       "5        1  Toy Story (1995)  Adventure|Animation|Children|Comedy|Fantasy   \n",
       "6        1  Toy Story (1995)  Adventure|Animation|Children|Comedy|Fantasy   \n",
       "7        1  Toy Story (1995)  Adventure|Animation|Children|Comedy|Fantasy   \n",
       "8        1  Toy Story (1995)  Adventure|Animation|Children|Comedy|Fantasy   \n",
       "9        1  Toy Story (1995)  Adventure|Animation|Children|Comedy|Fantasy   \n",
       "\n",
       "   userId  rating   timestamp  \n",
       "0       2     5.0   859046895  \n",
       "1       5     4.0  1303501039  \n",
       "2       8     5.0   858610933  \n",
       "3      11     4.0   850815810  \n",
       "4      14     4.0   851766286  \n",
       "5      17     5.0  1350206819  \n",
       "6      28     3.0   884098350  \n",
       "7      29     4.0   846942580  \n",
       "8      30     4.5  1292690069  \n",
       "9      31     4.0   832397496  "
      ]
     },
     "execution_count": 14,
     "metadata": {},
     "output_type": "execute_result"
    }
   ],
   "source": [
    "df.head(10)"
   ]
  },
  {
   "cell_type": "code",
   "execution_count": 15,
   "id": "998eb9ce",
   "metadata": {},
   "outputs": [
    {
     "data": {
      "image/png": "[encoded data removed]",
      "text/plain": [
       "<Figure size 600x400 with 1 Axes>"
      ]
     },
     "metadata": {},
     "output_type": "display_data"
    }
   ],
   "source": [
    "import seaborn as sns\n",
    "import matplotlib.pyplot as plt\n",
    "plt.figure(figsize=(6,4))\n",
    "plt.hist(x=df['rating'],bins=5,color='skyblue',edgecolor='black')\n",
    "plt.xlabel('Rating')\n",
    "plt.ylabel('Count / Frequency')\n",
    "plt.title('Distribution of movie ratings')\n",
    "\n",
    "plt.show()"
   ]
  },
  {
   "cell_type": "code",
   "execution_count": 16,
   "id": "2e3596b0",
   "metadata": {},
   "outputs": [],
   "source": [
    "all_genres = df['genres'].str.split('|').explode()\n",
    "unique_genres = all_genres.unique()\n",
    "# print(unique_genres)"
   ]
  },
  {
   "cell_type": "markdown",
   "id": "f3d7db84",
   "metadata": {},
   "source": [
    "### <center><span style=\"color:green;\">Popularity Based Recommendation System</span></center>"
   ]
  },
  {
   "cell_type": "code",
   "execution_count": 23,
   "id": "17933f07",
   "metadata": {},
   "outputs": [
    {
     "name": "stdout",
     "output_type": "stream",
     "text": [
      "Available genres:\n",
      "=================\n",
      "1. Adventure\n",
      "2. Animation\n",
      "3. Children\n",
      "4. Comedy\n",
      "5. Fantasy\n",
      "6. Romance\n",
      "7. Drama\n",
      "8. Action\n",
      "9. Crime\n",
      "10. Thriller\n",
      "11. Horror\n",
      "12. Mystery\n",
      "13. Sci-Fi\n",
      "14. IMAX\n",
      "15. War\n",
      "16. Musical\n",
      "17. Documentary\n",
      "18. Western\n",
      "19. Film-Noir\n",
      "20. (no genres listed)\n",
      "Enter the number corresponding to your preferred genre: 8\n",
      "--------------------------\n",
      "You selected: Action\n",
      "--------------------------\n",
      "Enter the minimum review:200\n",
      "--------------------------\n",
      "Enter the number of Recommendations:5\n",
      "--------------------------\n"
     ]
    },
    {
     "data": {
      "text/html": [
       "<div>\n",
       "<style scoped>\n",
       "    .dataframe tbody tr th:only-of-type {\n",
       "        vertical-align: middle;\n",
       "    }\n",
       "\n",
       "    .dataframe tbody tr th {\n",
       "        vertical-align: top;\n",
       "    }\n",
       "\n",
       "    .dataframe thead th {\n",
       "        text-align: right;\n",
       "    }\n",
       "</style>\n",
       "<table border=\"1\" class=\"dataframe\">\n",
       "  <thead>\n",
       "    <tr style=\"text-align: right;\">\n",
       "      <th></th>\n",
       "      <th>title</th>\n",
       "      <th>average_rating</th>\n",
       "      <th>rating_count</th>\n",
       "    </tr>\n",
       "  </thead>\n",
       "  <tbody>\n",
       "    <tr>\n",
       "      <th>0</th>\n",
       "      <td>Matrix, The (1999)</td>\n",
       "      <td>4.264368</td>\n",
       "      <td>261</td>\n",
       "    </tr>\n",
       "    <tr>\n",
       "      <th>1</th>\n",
       "      <td>Star Wars: Episode V - The Empire Strikes Back...</td>\n",
       "      <td>4.228070</td>\n",
       "      <td>228</td>\n",
       "    </tr>\n",
       "    <tr>\n",
       "      <th>2</th>\n",
       "      <td>Raiders of the Lost Ark (Indiana Jones and the...</td>\n",
       "      <td>4.212054</td>\n",
       "      <td>224</td>\n",
       "    </tr>\n",
       "    <tr>\n",
       "      <th>3</th>\n",
       "      <td>Star Wars: Episode IV - A New Hope (1977)</td>\n",
       "      <td>4.188645</td>\n",
       "      <td>273</td>\n",
       "    </tr>\n",
       "    <tr>\n",
       "      <th>4</th>\n",
       "      <td>Fight Club (1999)</td>\n",
       "      <td>4.188406</td>\n",
       "      <td>207</td>\n",
       "    </tr>\n",
       "  </tbody>\n",
       "</table>\n",
       "</div>"
      ],
      "text/plain": [
       "                                               title  average_rating  \\\n",
       "0                                 Matrix, The (1999)        4.264368   \n",
       "1  Star Wars: Episode V - The Empire Strikes Back...        4.228070   \n",
       "2  Raiders of the Lost Ark (Indiana Jones and the...        4.212054   \n",
       "3          Star Wars: Episode IV - A New Hope (1977)        4.188645   \n",
       "4                                  Fight Club (1999)        4.188406   \n",
       "\n",
       "   rating_count  \n",
       "0           261  \n",
       "1           228  \n",
       "2           224  \n",
       "3           273  \n",
       "4           207  "
      ]
     },
     "metadata": {},
     "output_type": "display_data"
    }
   ],
   "source": [
    "print(\"Available genres:\")\n",
    "print('=================')\n",
    "for i, genre in enumerate(unique_genres,1):\n",
    "    print(f\"{i}. {genre}\")\n",
    "\n",
    "    #Function to filter by Genre\n",
    "def filter_by_genre(df, genre):\n",
    "    return df[df['genres'].str.contains(genre, case=False, na=False)]\n",
    "\n",
    "#Function to calculate Average ratings and count of ratings\n",
    "def calculate_popularity(df):\n",
    "    # Group by movieId and calculate average rating and count of ratings\n",
    "    popularity = df.groupby('movieId').agg({'rating': ['mean', 'count']})\n",
    "    # Rename columns\n",
    "    popularity.columns = ['average_rating', 'rating_count']\n",
    "    return popularity\n",
    "\n",
    "#Function to filter by minimum reviews threshold\n",
    "def filter_by_threshold(df, threshold):\n",
    "    return df[df['rating_count'] >= threshold]\n",
    "\n",
    "#Function to get Top N Recommendations\n",
    "def get_top_n_recommendations(df, n):\n",
    "    return df.sort_values(by='average_rating', ascending=False).head(n)\n",
    "\n",
    "#Function to Recommend:\n",
    "def recommend_movies(genre, min_reviews, num_recommendations):\n",
    "    # Filter movies by genre\n",
    "    genre_movies = filter_by_genre(df, genre)\n",
    "    # Calculate popularity metrics\n",
    "    popularity = calculate_popularity(genre_movies)\n",
    "    # Filter by minimum reviews threshold\n",
    "    filtered_popularity = filter_by_threshold(popularity, min_reviews)\n",
    "    # Get top N recommendations\n",
    "    top_n = get_top_n_recommendations(filtered_popularity, num_recommendations)\n",
    "    # Merge with movie titles\n",
    "    top_n = top_n.merge(movie[['movieId', 'title']], on='movieId')\n",
    "    return top_n[['title', 'average_rating', 'rating_count']]\n",
    "\n",
    "genre_choice = int(input(\"Enter the number corresponding to your preferred genre: \"))\n",
    "selected_genre = unique_genres[genre_choice - 1]\n",
    "print('--------------------------')\n",
    "print(f\"You selected: {selected_genre}\")\n",
    "print('--------------------------')\n",
    "min_reviews = int(input('Enter the minimum review:'))\n",
    "print('--------------------------')\n",
    "num_recommendations = int(input('Enter the number of Recommendations:'))\n",
    "print('--------------------------')\n",
    "recommendations=recommend_movies(selected_genre,min_reviews,num_recommendations)\n",
    "display(recommendations)"
   ]
  },
  {
   "cell_type": "markdown",
   "id": "c5bdb4d1",
   "metadata": {},
   "source": [
    "### <center><span style=\"color:green;\">Content Based Recommendation System</span></center>"
   ]
  },
  {
   "cell_type": "code",
   "execution_count": 18,
   "id": "78625857",
   "metadata": {},
   "outputs": [],
   "source": [
    "from sklearn.metrics.pairwise import cosine_similarity\n",
    "from sklearn.feature_extraction.text import CountVectorizer\n",
    "\n",
    "df_crs = movie.iloc[:,1:]\n",
    "\n",
    "# Create a count matrix\n",
    "count_vectorizer = CountVectorizer(tokenizer=lambda x: x.split('|'))\n",
    "count_matrix = count_vectorizer.fit_transform(df_crs['genres'])\n",
    "\n",
    "# Compute the cosine similarity matrix\n",
    "cosine_sim = cosine_similarity(count_matrix,count_matrix)\n",
    "\n",
    "def get_recommendations(title, N):\n",
    "    # Get the index of the movie that matches the title\n",
    "    idx = df_crs[df_crs['title'] == title].index[0]\n",
    "\n",
    "    # Get the pairwise similarity scores of all movies with that movie\n",
    "    sim_scores = list(enumerate(cosine_sim[idx]))\n",
    "\n",
    "    # Sort the movies based on the similarity scores\n",
    "    sim_scores = sorted(sim_scores, key=lambda x: x[1], reverse=True)\n",
    "\n",
    "    # Get the scores of the top N most similar movies\n",
    "    sim_scores = sim_scores[1:N+1]\n",
    "\n",
    "    # Get the movie indices\n",
    "    movie_indices = [i[0] for i in sim_scores]\n",
    "\n",
    "    # Return the top N most similar movies\n",
    "    return df_crs['title'].iloc[movie_indices]"
   ]
  },
  {
   "cell_type": "code",
   "execution_count": 24,
   "id": "8842d6f0",
   "metadata": {},
   "outputs": [
    {
     "name": "stdout",
     "output_type": "stream",
     "text": [
      "Your Search: E\n",
      "====================================================================================\n",
      "Results:\n"
     ]
    },
    {
     "data": {
      "text/html": [
       "<div>\n",
       "<style scoped>\n",
       "    .dataframe tbody tr th:only-of-type {\n",
       "        vertical-align: middle;\n",
       "    }\n",
       "\n",
       "    .dataframe tbody tr th {\n",
       "        vertical-align: top;\n",
       "    }\n",
       "\n",
       "    .dataframe thead th {\n",
       "        text-align: right;\n",
       "    }\n",
       "</style>\n",
       "<table border=\"1\" class=\"dataframe\">\n",
       "  <thead>\n",
       "    <tr style=\"text-align: right;\">\n",
       "      <th></th>\n",
       "      <th>Title</th>\n",
       "    </tr>\n",
       "  </thead>\n",
       "  <tbody>\n",
       "    <tr>\n",
       "      <th>56</th>\n",
       "      <td>Eye for an Eye (1996)</td>\n",
       "    </tr>\n",
       "    <tr>\n",
       "      <th>203</th>\n",
       "      <td>Eat Drink Man Woman (Yin shi nan nu) (1994)</td>\n",
       "    </tr>\n",
       "    <tr>\n",
       "      <th>204</th>\n",
       "      <td>Exotica (1994)</td>\n",
       "    </tr>\n",
       "    <tr>\n",
       "      <th>205</th>\n",
       "      <td>Exit to Eden (1994)</td>\n",
       "    </tr>\n",
       "    <tr>\n",
       "      <th>206</th>\n",
       "      <td>Ed Wood (1994)</td>\n",
       "    </tr>\n",
       "    <tr>\n",
       "      <th>...</th>\n",
       "      <td>...</td>\n",
       "    </tr>\n",
       "    <tr>\n",
       "      <th>10269</th>\n",
       "      <td>Eastern Boys (2014)</td>\n",
       "    </tr>\n",
       "    <tr>\n",
       "      <th>10272</th>\n",
       "      <td>Echoes of War (2015)</td>\n",
       "    </tr>\n",
       "    <tr>\n",
       "      <th>10279</th>\n",
       "      <td>Everything's Gonna Be Great (1998)</td>\n",
       "    </tr>\n",
       "    <tr>\n",
       "      <th>10300</th>\n",
       "      <td>Everest (2015)</td>\n",
       "    </tr>\n",
       "    <tr>\n",
       "      <th>10316</th>\n",
       "      <td>Elämältä kaiken sain (    )</td>\n",
       "    </tr>\n",
       "  </tbody>\n",
       "</table>\n",
       "<p>265 rows × 1 columns</p>\n",
       "</div>"
      ],
      "text/plain": [
       "                                             Title\n",
       "56                           Eye for an Eye (1996)\n",
       "203    Eat Drink Man Woman (Yin shi nan nu) (1994)\n",
       "204                                 Exotica (1994)\n",
       "205                            Exit to Eden (1994)\n",
       "206                                 Ed Wood (1994)\n",
       "...                                            ...\n",
       "10269                          Eastern Boys (2014)\n",
       "10272                         Echoes of War (2015)\n",
       "10279           Everything's Gonna Be Great (1998)\n",
       "10300                               Everest (2015)\n",
       "10316                  Elämältä kaiken sain (    )\n",
       "\n",
       "[265 rows x 1 columns]"
      ]
     },
     "metadata": {},
     "output_type": "display_data"
    },
    {
     "name": "stdout",
     "output_type": "stream",
     "text": [
      "----------------------------------------------------------------------------------------\n",
      "Now, search for Similiar movies by copying from results: Exotica (1994)\n",
      "----------------------------------------------------------------------------------------\n",
      "Number of Recommendations you want: 8\n",
      "========================================================================================\n",
      "Similiar 8 movies of Exotica (1994)\n"
     ]
    },
    {
     "data": {
      "text/plain": [
       "25                        Othello (1995)\n",
       "30                Dangerous Minds (1995)\n",
       "37       Cry, the Beloved Country (1995)\n",
       "40                    Restoration (1995)\n",
       "51                        Georgia (1995)\n",
       "52          Home for the Holidays (1995)\n",
       "57             Mr. Holland's Opus (1995)\n",
       "83    Journey of August King, The (1995)\n",
       "Name: title, dtype: object"
      ]
     },
     "metadata": {},
     "output_type": "display_data"
    }
   ],
   "source": [
    "title_df = pd.DataFrame(data= df['title'].unique(),columns=['Title'])\n",
    "while True:\n",
    "    name_like = input('Your Search: ')\n",
    "    print(\"====================================================================================\")\n",
    "    filtered_df = title_df[title_df['Title'].str.startswith(name_like)]\n",
    "    \n",
    "    if not filtered_df.empty:\n",
    "        print('Results:')\n",
    "        display(filtered_df)\n",
    "        break\n",
    "    else:\n",
    "        print(\"\"\"Movies not Found!\n",
    "Because your search is case sensitive. So, Take a look at your Search\"\"\")\n",
    "print(\"----------------------------------------------------------------------------------------\")\n",
    "movie_title = input(\"Now, search for Similiar movies by copying from results: \")\n",
    "print(\"----------------------------------------------------------------------------------------\")\n",
    "num_recom = int(input('Number of Recommendations you want: '))\n",
    "recommended_movies = get_recommendations(movie_title, num_recom)\n",
    "print(\"========================================================================================\")\n",
    "print(f\"Similiar {num_recom} movies of {movie_title}\")\n",
    "display(recommended_movies)"
   ]
  },
  {
   "cell_type": "markdown",
   "id": "9eeed357",
   "metadata": {},
   "source": [
    "### <center><span style=\"color:green;\">Collaborative Based Recommendation System</span></center>"
   ]
  },
  {
   "cell_type": "code",
   "execution_count": 27,
   "id": "16c7710b",
   "metadata": {},
   "outputs": [],
   "source": [
    "user_item_matrix = rating.pivot(index='userId', columns='movieId', values='rating').fillna(0)\n",
    "#user_item_matrix"
   ]
  },
  {
   "cell_type": "code",
   "execution_count": 21,
   "id": "7c98ca0f",
   "metadata": {},
   "outputs": [],
   "source": [
    "from sklearn.metrics.pairwise import cosine_similarity\n",
    "from sklearn.neighbors import NearestNeighbors\n",
    "def find_similar_users(user_id, k=100):\n",
    "    user_vector = user_item_matrix.loc[user_id].values.reshape(1, -1)\n",
    "    knn = NearestNeighbors(n_neighbors=k, metric='cosine')\n",
    "    knn.fit(user_item_matrix)\n",
    "    distances, indices = knn.kneighbors(user_vector)\n",
    "    similar_users = user_item_matrix.index[indices.flatten()].tolist()\n",
    "    return similar_users"
   ]
  },
  {
   "cell_type": "code",
   "execution_count": 25,
   "id": "f4026024",
   "metadata": {},
   "outputs": [
    {
     "name": "stdout",
     "output_type": "stream",
     "text": [
      "Enter userid between 1 and 668: 5\n",
      "Enter number of Recommendations you want: 5\n",
      "================================================================================\n",
      "Recommended movies for UserId 5 are\n"
     ]
    },
    {
     "data": {
      "text/html": [
       "<div>\n",
       "<style scoped>\n",
       "    .dataframe tbody tr th:only-of-type {\n",
       "        vertical-align: middle;\n",
       "    }\n",
       "\n",
       "    .dataframe tbody tr th {\n",
       "        vertical-align: top;\n",
       "    }\n",
       "\n",
       "    .dataframe thead th {\n",
       "        text-align: right;\n",
       "    }\n",
       "</style>\n",
       "<table border=\"1\" class=\"dataframe\">\n",
       "  <thead>\n",
       "    <tr style=\"text-align: right;\">\n",
       "      <th></th>\n",
       "      <th>title</th>\n",
       "    </tr>\n",
       "  </thead>\n",
       "  <tbody>\n",
       "    <tr>\n",
       "      <th>356</th>\n",
       "      <td>In the Mouth of Madness (1995)</td>\n",
       "    </tr>\n",
       "    <tr>\n",
       "      <th>260</th>\n",
       "      <td>Pulp Fiction (1994)</td>\n",
       "    </tr>\n",
       "    <tr>\n",
       "      <th>4993</th>\n",
       "      <td>Ninja Scroll (Jûbei ninpûchô) (1995)</td>\n",
       "    </tr>\n",
       "    <tr>\n",
       "      <th>296</th>\n",
       "      <td>Walking Dead, The (1995)</td>\n",
       "    </tr>\n",
       "    <tr>\n",
       "      <th>1196</th>\n",
       "      <td>Love Jones (1997)</td>\n",
       "    </tr>\n",
       "  </tbody>\n",
       "</table>\n",
       "</div>"
      ],
      "text/plain": [
       "                                     title\n",
       "356         In the Mouth of Madness (1995)\n",
       "260                    Pulp Fiction (1994)\n",
       "4993  Ninja Scroll (Jûbei ninpûchô) (1995)\n",
       "296               Walking Dead, The (1995)\n",
       "1196                     Love Jones (1997)"
      ]
     },
     "metadata": {},
     "output_type": "display_data"
    }
   ],
   "source": [
    "def recommend_movies(user_id, n=5, k=100):\n",
    "    similar_users = find_similar_users(user_id, k)\n",
    "    similar_users_ratings = user_item_matrix.loc[similar_users].mean(axis=0)\n",
    "    user_ratings = user_item_matrix.loc[user_id]\n",
    "    recommendations = similar_users_ratings[user_ratings == 0].sort_values(ascending=False).head(n)\n",
    "    return recommendations.index.tolist()\n",
    "\n",
    "# Inputs for the recommender\n",
    "user_id = int(input('Enter userid between 1 and 668: '))\n",
    "num_recommendations = int(input('Enter number of Recommendations you want: '))\n",
    "threshold_similar_users = 100\n",
    "\n",
    "recommended_movies = recommend_movies(user_id, num_recommendations, threshold_similar_users)\n",
    "recommended_movie = pd.DataFrame(movie.loc[recommended_movies,'title'])\n",
    "print(\"================================================================================\")\n",
    "print(f\"Recommended movies for UserId {user_id} are\")\n",
    "display(recommended_movie)"
   ]
  },
  {
   "cell_type": "code",
   "execution_count": null,
   "id": "5619cf5d",
   "metadata": {},
   "outputs": [],
   "source": []
  }
 ],
 "metadata": {
  "kernelspec": {
   "display_name": "Python 3 (ipykernel)",
   "language": "python",
   "name": "python3"
  },
  "language_info": {
   "codemirror_mode": {
    "name": "ipython",
    "version": 3
   },
   "file_extension": ".py",
   "mimetype": "text/x-python",
   "name": "python",
   "nbconvert_exporter": "python",
   "pygments_lexer": "ipython3",
   "version": "3.11.4"
  }
 },
 "nbformat": 4,
 "nbformat_minor": 5
}
